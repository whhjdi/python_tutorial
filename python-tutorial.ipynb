{
 "cells": [
  {
   "cell_type": "markdown",
   "metadata": {},
   "source": [
    "# Learn Python"
   ]
  },
  {
   "cell_type": "code",
   "execution_count": 1,
   "metadata": {},
   "outputs": [
    {
     "name": "stdout",
     "output_type": "stream",
     "text": [
      "Hello World\n"
     ]
    }
   ],
   "source": [
    "print('Hello World')"
   ]
  },
  {
   "cell_type": "markdown",
   "metadata": {},
   "source": [
    "## 数据类型"
   ]
  },
  {
   "cell_type": "code",
   "execution_count": 5,
   "metadata": {},
   "outputs": [
    {
     "name": "stdout",
     "output_type": "stream",
     "text": [
      "3\n",
      "3.141592653\n",
      "muxue\n",
      "muxue muxue\n",
      "6.283185306\n"
     ]
    }
   ],
   "source": [
    "x =3\n",
    "f = 3.141592653\n",
    "name='muxue'\n",
    "\n",
    "print(x)\n",
    "print(f)\n",
    "print(name)\n",
    "\n",
    "combination = name +  \" \" + name\n",
    "print(combination)\n",
    "\n",
    "sum = f + f\n",
    "print(sum)\n",
    "\n"
   ]
  },
  {
   "cell_type": "code",
   "execution_count": 6,
   "metadata": {},
   "outputs": [
    {
     "name": "stdout",
     "output_type": "stream",
     "text": [
      "H\n",
      "e\n"
     ]
    }
   ],
   "source": [
    "x = \"Hello\"\n",
    "print(x[0])\n",
    "print(x[1])"
   ]
  },
  {
   "cell_type": "code",
   "execution_count": 7,
   "metadata": {},
   "outputs": [
    {
     "name": "stdout",
     "output_type": "stream",
     "text": [
      "Hel\n",
      "Hel\n"
     ]
    }
   ],
   "source": [
    "x = \"Hello World\"\n",
    "s = x[0:3]\n",
    "print(s)\n",
    "s = x[:3]\n",
    "print(s)"
   ]
  },
  {
   "cell_type": "code",
   "execution_count": 9,
   "metadata": {},
   "outputs": [
    {
     "name": "stdout",
     "output_type": "stream",
     "text": [
      " My age is 7\n"
     ]
    }
   ],
   "source": [
    "s = \" My age is %d\" % 7\n",
    "print(s)"
   ]
  },
  {
   "cell_type": "code",
   "execution_count": 10,
   "metadata": {},
   "outputs": [
    {
     "name": "stdout",
     "output_type": "stream",
     "text": [
      "My lucky number is 7, what is yours?\n"
     ]
    }
   ],
   "source": [
    "s = \"My lucky number is \" + str(7) + \", what is yours?\"\n",
    "print(s)"
   ]
  },
  {
   "cell_type": "markdown",
   "metadata": {},
   "source": [
    "## String replace(old,new)"
   ]
  },
  {
   "cell_type": "code",
   "execution_count": 11,
   "metadata": {},
   "outputs": [
    {
     "name": "stdout",
     "output_type": "stream",
     "text": [
      "Hello muxue\n"
     ]
    }
   ],
   "source": [
    "s = \"Hello World\"\n",
    "s = s.replace(\"World\", 'muxue')\n",
    "print(s)"
   ]
  },
  {
   "cell_type": "code",
   "execution_count": 13,
   "metadata": {},
   "outputs": [
    {
     "name": "stdout",
     "output_type": "stream",
     "text": [
      "Hello muxue muxue muxue\n",
      "Hello world world muxue\n"
     ]
    }
   ],
   "source": [
    "s = \"Hello World World World\"\n",
    "s = s.replace(\"World\",\"muxue\")\n",
    "print(s)\n",
    "s = s.replace(\"muxue\",'world',2)\n",
    "print(s)"
   ]
  },
  {
   "cell_type": "markdown",
   "metadata": {},
   "source": [
    "## String find()"
   ]
  },
  {
   "cell_type": "code",
   "execution_count": 18,
   "metadata": {},
   "outputs": [
    {
     "name": "stdout",
     "output_type": "stream",
     "text": [
      "5\n"
     ]
    }
   ],
   "source": [
    "s = \"That I ever did see\"\n",
    "index = s.find(\"I\")\n",
    "print(index)"
   ]
  },
  {
   "cell_type": "code",
   "execution_count": 21,
   "metadata": {},
   "outputs": [
    {
     "name": "stdout",
     "output_type": "stream",
     "text": [
      "query found\n"
     ]
    }
   ],
   "source": [
    "s = \"That I ever did see\"\n",
    "if \"ever\" in s:\n",
    "    print(\"query found \")"
   ]
  },
  {
   "cell_type": "markdown",
   "metadata": {},
   "source": [
    "## String join(sequence)"
   ]
  },
  {
   "cell_type": "code",
   "execution_count": null,
   "metadata": {},
   "outputs": [],
   "source": [
    "firstName = 'bugs'\n",
    "secondName = \"muxue\"\n",
    "sequence = (firstName,secondName)\n",
    "name = \" ,\".join(sequence)\n",
    "print(name)\n",
    "words = [\"how\",\"are\",\"you\"]\n",
    "sentence = \" xxx \".join(words)\n",
    "print(sentence)"
   ]
  },
  {
   "cell_type": "markdown",
   "metadata": {},
   "source": [
    "## String split()"
   ]
  },
  {
   "cell_type": "code",
   "execution_count": 29,
   "metadata": {},
   "outputs": [
    {
     "name": "stdout",
     "output_type": "stream",
     "text": [
      "['Its', 'to', 'easy']\n",
      "3\n",
      "11\n"
     ]
    }
   ],
   "source": [
    "s = \"Its to easy\"\n",
    "word = s.split()\n",
    "print(word)\n",
    "print(len(word))\n",
    "print(len(s))"
   ]
  },
  {
   "cell_type": "code",
   "execution_count": 37,
   "metadata": {},
   "outputs": [
    {
     "name": "stdout",
     "output_type": "stream",
     "text": [
      "['e', 'a', 's', 'y']\n",
      "eMaMsMy\n"
     ]
    }
   ],
   "source": [
    "word = \"easy\"\n",
    "x = list(word)\n",
    "print(x)\n",
    "y = \"M\".join(x)\n",
    "print(y)"
   ]
  },
  {
   "cell_type": "markdown",
   "metadata": {},
   "source": [
    "## random module"
   ]
  },
  {
   "cell_type": "code",
   "execution_count": 47,
   "metadata": {},
   "outputs": [
    {
     "name": "stdout",
     "output_type": "stream",
     "text": [
      "0.586767242094615\n",
      "3\n",
      "1.3381589685024098\n"
     ]
    }
   ],
   "source": [
    "import random\n",
    "print(random.random())\n",
    "print(random.randrange(0,10))\n",
    "print(random.uniform(1,2))"
   ]
  },
  {
   "cell_type": "markdown",
   "metadata": {},
   "source": [
    "## input "
   ]
  },
  {
   "cell_type": "code",
   "execution_count": 1,
   "metadata": {},
   "outputs": [
    {
     "name": "stdout",
     "output_type": "stream",
     "text": [
      "What is your name? muxue\n"
     ]
    }
   ],
   "source": [
    "name = input('What is your name? ')"
   ]
  },
  {
   "cell_type": "markdown",
   "metadata": {},
   "source": [
    "## If Statements"
   ]
  },
  {
   "cell_type": "code",
   "execution_count": 3,
   "metadata": {},
   "outputs": [
    {
     "name": "stdout",
     "output_type": "stream",
     "text": [
      "大于 3\n",
      "x is in range\n"
     ]
    }
   ],
   "source": [
    "x = 3\n",
    "if(x > 2):\n",
    "    print(\"大于 3\")\n",
    "if x > 1 and x < 4:\n",
    "    print('x is in range')"
   ]
  },
  {
   "cell_type": "code",
   "execution_count": 5,
   "metadata": {},
   "outputs": [
    {
     "name": "stdout",
     "output_type": "stream",
     "text": [
      "Age of your cat? 3\n",
      "3\n"
     ]
    }
   ],
   "source": [
    "age = int(input(\"Age of your cat? \"))\n",
    "if age < 3:\n",
    "    print(\"Your cat is young.\")\n",
    "elif age == 3:\n",
    "    print(\"3\")\n",
    "else:\n",
    "    print(\"Your cat is adult.\")"
   ]
  },
  {
   "cell_type": "markdown",
   "metadata": {},
   "source": [
    "## for loops "
   ]
  },
  {
   "cell_type": "code",
   "execution_count": 7,
   "metadata": {},
   "outputs": [
    {
     "name": "stdout",
     "output_type": "stream",
     "text": [
      "Cities loop:\n",
      "city: Tokyo\n",
      "\n",
      "city: New York\n",
      "\n",
      "city: Toronto\n",
      "\n",
      "city: Hong Kong\n",
      "\n"
     ]
    }
   ],
   "source": [
    "city = ['Tokyo','New York','Toronto','Hong Kong']\n",
    "print('Cities loop:')\n",
    "for x in city:\n",
    "    print('city: '+ x +'\\n')"
   ]
  },
  {
   "cell_type": "markdown",
   "metadata": {},
   "source": [
    "## while loops"
   ]
  },
  {
   "cell_type": "code",
   "execution_count": 9,
   "metadata": {},
   "outputs": [
    {
     "name": "stdout",
     "output_type": "stream",
     "text": [
      "3\n",
      "4\n",
      "5\n",
      "6\n",
      "7\n",
      "8\n",
      "9\n"
     ]
    }
   ],
   "source": [
    "x = 3\n",
    "while x<10:\n",
    "    print(x)\n",
    "    x = x + 1"
   ]
  },
  {
   "cell_type": "markdown",
   "metadata": {},
   "source": [
    "## List"
   ]
  },
  {
   "cell_type": "code",
   "execution_count": 11,
   "metadata": {},
   "outputs": [
    {
     "name": "stdout",
     "output_type": "stream",
     "text": [
      "['New York', 'Los Angles', 'Boston', 'Denver']\n",
      "New York\n"
     ]
    }
   ],
   "source": [
    "list = [ \"New York\", \"Los Angles\", \"Boston\", \"Denver\" ]\n",
    "print(list)\n",
    "print(list[0])"
   ]
  },
  {
   "cell_type": "code",
   "execution_count": 15,
   "metadata": {},
   "outputs": [
    {
     "name": "stdout",
     "output_type": "stream",
     "text": [
      "38\n",
      "1\n",
      "8\n",
      "1\n",
      "3\n"
     ]
    }
   ],
   "source": [
    "list2 = [1,3,4,6,4,7,8,2,3]\n",
    "print(sum(list2))\n",
    "print(min(list2))\n",
    "print(max(list2))\n",
    "print(list2[0])\n",
    "print(list2[-1])"
   ]
  },
  {
   "cell_type": "code",
   "execution_count": 16,
   "metadata": {},
   "outputs": [
    {
     "name": "stdout",
     "output_type": "stream",
     "text": [
      "[3, 4, 5, 6]\n",
      "[3, 4, 5]\n"
     ]
    }
   ],
   "source": [
    "x = [3,4,5]\n",
    "x.append(6)\n",
    "print(x)\n",
    "x.pop()\n",
    "print(x)"
   ]
  },
  {
   "cell_type": "code",
   "execution_count": 28,
   "metadata": {},
   "outputs": [
    {
     "name": "stdout",
     "output_type": "stream",
     "text": [
      "[1, 2, 3, 3, 4, 4, 6, 7, 8]\n",
      "[8, 7, 6, 4, 4, 3, 3, 2, 1]\n"
     ]
    }
   ],
   "source": [
    "x = [1,3,4,6,4,7,8,2,3]\n",
    "x.sort()\n",
    "print(x)\n",
    "x = x[::-1]\n",
    "print(x)"
   ]
  },
  {
   "cell_type": "markdown",
   "metadata": {},
   "source": [
    "## Range "
   ]
  },
  {
   "cell_type": "code",
   "execution_count": 33,
   "metadata": {},
   "outputs": [
    {
     "name": "stdout",
     "output_type": "stream",
     "text": [
      "0\n",
      "1\n",
      "2\n",
      "3\n",
      "4\n"
     ]
    }
   ],
   "source": [
    "for i in range(5):\n",
    "    print(i)"
   ]
  },
  {
   "cell_type": "code",
   "execution_count": 34,
   "metadata": {},
   "outputs": [
    {
     "name": "stdout",
     "output_type": "stream",
     "text": [
      "1\n",
      "3\n",
      "5\n",
      "7\n"
     ]
    }
   ],
   "source": [
    "for i in range(1,9,2):\n",
    "    print(i)"
   ]
  },
  {
   "cell_type": "markdown",
   "metadata": {},
   "source": [
    "## Dict"
   ]
  },
  {
   "cell_type": "code",
   "execution_count": 36,
   "metadata": {},
   "outputs": [
    {
     "name": "stdout",
     "output_type": "stream",
     "text": [
      "{'BMP': 'Bitmap'}\n",
      "Bitmap\n"
     ]
    }
   ],
   "source": [
    "words = {}\n",
    "words[\"BMP\"] = \"Bitmap\"\n",
    "print(words)\n",
    "print(words[\"BMP\"])"
   ]
  },
  {
   "cell_type": "markdown",
   "metadata": {},
   "source": [
    "## Nested lops"
   ]
  },
  {
   "cell_type": "code",
   "execution_count": 37,
   "metadata": {},
   "outputs": [
    {
     "name": "stdout",
     "output_type": "stream",
     "text": [
      "John eats Japanese\n",
      "John eats American\n",
      "John eats Mexican\n",
      "John eats French\n",
      "Marissa eats Japanese\n",
      "Marissa eats American\n",
      "Marissa eats Mexican\n",
      "Marissa eats French\n",
      "Pete eats Japanese\n",
      "Pete eats American\n",
      "Pete eats Mexican\n",
      "Pete eats French\n",
      "Dayton eats Japanese\n",
      "Dayton eats American\n",
      "Dayton eats Mexican\n",
      "Dayton eats French\n"
     ]
    }
   ],
   "source": [
    "persons = [ \"John\", \"Marissa\", \"Pete\", \"Dayton\" ]\n",
    "restaurants = [ \"Japanese\", \"American\", \"Mexican\", \"French\" ]\n",
    "\n",
    "for person in persons:\n",
    "    for restaurant in restaurants:\n",
    "        print(person + \" eats \" + restaurant)"
   ]
  },
  {
   "cell_type": "markdown",
   "metadata": {},
   "source": [
    "## Multiple return"
   ]
  },
  {
   "cell_type": "code",
   "execution_count": 39,
   "metadata": {},
   "outputs": [
    {
     "name": "stdout",
     "output_type": "stream",
     "text": [
      "muxue\n",
      "12\n",
      "china\n"
     ]
    }
   ],
   "source": [
    "def getPerson():\n",
    "    name = 'muxue'\n",
    "    age = 12\n",
    "    country = 'china'\n",
    "    return name,age,country\n",
    "name,age,country = getPerson()\n",
    "print(name)\n",
    "print(age)\n",
    "print(country)"
   ]
  },
  {
   "cell_type": "markdown",
   "metadata": {},
   "source": [
    "## Python Scope of Variables "
   ]
  },
  {
   "cell_type": "markdown",
   "metadata": {},
   "source": [
    "python有全局变量和局部变量"
   ]
  },
  {
   "cell_type": "markdown",
   "metadata": {},
   "source": [
    "## Date and Time"
   ]
  },
  {
   "cell_type": "code",
   "execution_count": 56,
   "metadata": {},
   "outputs": [
    {
     "name": "stdout",
     "output_type": "stream",
     "text": [
      "(2020, 7, 8, 21, 40)\n",
      "8/7/2020\n",
      "21:40\n"
     ]
    },
    {
     "data": {
      "text/plain": [
       "time.struct_time(tm_year=2020, tm_mon=7, tm_mday=8, tm_hour=13, tm_min=40, tm_sec=8, tm_wday=2, tm_yday=190, tm_isdst=0)"
      ]
     },
     "execution_count": 56,
     "metadata": {},
     "output_type": "execute_result"
    }
   ],
   "source": [
    "import time\n",
    "timenow = time.localtime(time.time())\n",
    "print(timenow[0:5])\n",
    "year,month,day,hour,minute = timenow[0:5]\n",
    "print(str(day)+ \"/\" + str(month) + \"/\" + str(year))\n",
    "print(str(hour)+ \":\" + str(minute))"
   ]
  },
  {
   "cell_type": "code",
   "execution_count": 57,
   "metadata": {},
   "outputs": [
    {
     "data": {
      "text/plain": [
       "'Wed Jul  8 21:40:56 2020'"
      ]
     },
     "execution_count": 57,
     "metadata": {},
     "output_type": "execute_result"
    }
   ],
   "source": [
    "time.time()"
   ]
  },
  {
   "cell_type": "code",
   "execution_count": 58,
   "metadata": {},
   "outputs": [
    {
     "data": {
      "text/plain": [
       "time.struct_time(tm_year=2020, tm_mon=7, tm_mday=8, tm_hour=13, tm_min=41, tm_sec=10, tm_wday=2, tm_yday=190, tm_isdst=0)"
      ]
     },
     "execution_count": 58,
     "metadata": {},
     "output_type": "execute_result"
    }
   ],
   "source": [
    "time.gmtime()\n"
   ]
  },
  {
   "cell_type": "code",
   "execution_count": 59,
   "metadata": {},
   "outputs": [
    {
     "data": {
      "text/plain": [
       "'Wed Jul  8 21:41:15 2020'"
      ]
     },
     "execution_count": 59,
     "metadata": {},
     "output_type": "execute_result"
    }
   ],
   "source": [
    "time.asctime()\n"
   ]
  },
  {
   "cell_type": "code",
   "execution_count": 60,
   "metadata": {},
   "outputs": [
    {
     "data": {
      "text/plain": [
       "'Wed Jul  8 21:41:17 2020'"
      ]
     },
     "execution_count": 60,
     "metadata": {},
     "output_type": "execute_result"
    }
   ],
   "source": [
    "time.ctime()"
   ]
  },
  {
   "cell_type": "code",
   "execution_count": 62,
   "metadata": {},
   "outputs": [
    {
     "name": "stdout",
     "output_type": "stream",
     "text": [
      "hello\n",
      "world\n"
     ]
    }
   ],
   "source": [
    "print(\"hello\")\n",
    "time.sleep(10)\n",
    "print('world')"
   ]
  },
  {
   "cell_type": "code",
   "execution_count": 66,
   "metadata": {},
   "outputs": [
    {
     "data": {
      "text/plain": [
       "['ArithmeticError',\n",
       " 'AssertionError',\n",
       " 'AttributeError',\n",
       " 'BaseException',\n",
       " 'BlockingIOError',\n",
       " 'BrokenPipeError',\n",
       " 'BufferError',\n",
       " 'BytesWarning',\n",
       " 'ChildProcessError',\n",
       " 'ConnectionAbortedError',\n",
       " 'ConnectionError',\n",
       " 'ConnectionRefusedError',\n",
       " 'ConnectionResetError',\n",
       " 'DeprecationWarning',\n",
       " 'EOFError',\n",
       " 'Ellipsis',\n",
       " 'EnvironmentError',\n",
       " 'Exception',\n",
       " 'False',\n",
       " 'FileExistsError',\n",
       " 'FileNotFoundError',\n",
       " 'FloatingPointError',\n",
       " 'FutureWarning',\n",
       " 'GeneratorExit',\n",
       " 'IOError',\n",
       " 'ImportError',\n",
       " 'ImportWarning',\n",
       " 'IndentationError',\n",
       " 'IndexError',\n",
       " 'InterruptedError',\n",
       " 'IsADirectoryError',\n",
       " 'KeyError',\n",
       " 'KeyboardInterrupt',\n",
       " 'LookupError',\n",
       " 'MemoryError',\n",
       " 'ModuleNotFoundError',\n",
       " 'NameError',\n",
       " 'None',\n",
       " 'NotADirectoryError',\n",
       " 'NotImplemented',\n",
       " 'NotImplementedError',\n",
       " 'OSError',\n",
       " 'OverflowError',\n",
       " 'PendingDeprecationWarning',\n",
       " 'PermissionError',\n",
       " 'ProcessLookupError',\n",
       " 'RecursionError',\n",
       " 'ReferenceError',\n",
       " 'ResourceWarning',\n",
       " 'RuntimeError',\n",
       " 'RuntimeWarning',\n",
       " 'StopAsyncIteration',\n",
       " 'StopIteration',\n",
       " 'SyntaxError',\n",
       " 'SyntaxWarning',\n",
       " 'SystemError',\n",
       " 'SystemExit',\n",
       " 'TabError',\n",
       " 'TimeoutError',\n",
       " 'True',\n",
       " 'TypeError',\n",
       " 'UnboundLocalError',\n",
       " 'UnicodeDecodeError',\n",
       " 'UnicodeEncodeError',\n",
       " 'UnicodeError',\n",
       " 'UnicodeTranslateError',\n",
       " 'UnicodeWarning',\n",
       " 'UserWarning',\n",
       " 'ValueError',\n",
       " 'Warning',\n",
       " 'ZeroDivisionError',\n",
       " '__IPYTHON__',\n",
       " '__build_class__',\n",
       " '__debug__',\n",
       " '__doc__',\n",
       " '__import__',\n",
       " '__loader__',\n",
       " '__name__',\n",
       " '__package__',\n",
       " '__spec__',\n",
       " 'abs',\n",
       " 'all',\n",
       " 'any',\n",
       " 'ascii',\n",
       " 'bin',\n",
       " 'bool',\n",
       " 'breakpoint',\n",
       " 'bytearray',\n",
       " 'bytes',\n",
       " 'callable',\n",
       " 'chr',\n",
       " 'classmethod',\n",
       " 'compile',\n",
       " 'complex',\n",
       " 'copyright',\n",
       " 'credits',\n",
       " 'delattr',\n",
       " 'dict',\n",
       " 'dir',\n",
       " 'display',\n",
       " 'divmod',\n",
       " 'enumerate',\n",
       " 'eval',\n",
       " 'exec',\n",
       " 'filter',\n",
       " 'float',\n",
       " 'format',\n",
       " 'frozenset',\n",
       " 'get_ipython',\n",
       " 'getattr',\n",
       " 'globals',\n",
       " 'hasattr',\n",
       " 'hash',\n",
       " 'help',\n",
       " 'hex',\n",
       " 'id',\n",
       " 'input',\n",
       " 'int',\n",
       " 'isinstance',\n",
       " 'issubclass',\n",
       " 'iter',\n",
       " 'len',\n",
       " 'license',\n",
       " 'list',\n",
       " 'locals',\n",
       " 'map',\n",
       " 'max',\n",
       " 'memoryview',\n",
       " 'min',\n",
       " 'next',\n",
       " 'object',\n",
       " 'oct',\n",
       " 'open',\n",
       " 'ord',\n",
       " 'pow',\n",
       " 'print',\n",
       " 'property',\n",
       " 'range',\n",
       " 'repr',\n",
       " 'reversed',\n",
       " 'round',\n",
       " 'set',\n",
       " 'setattr',\n",
       " 'slice',\n",
       " 'sorted',\n",
       " 'staticmethod',\n",
       " 'str',\n",
       " 'sum',\n",
       " 'super',\n",
       " 'tuple',\n",
       " 'type',\n",
       " 'vars',\n",
       " 'zip']"
      ]
     },
     "execution_count": 66,
     "metadata": {},
     "output_type": "execute_result"
    }
   ],
   "source": [
    "dir(__builtins__)"
   ]
  },
  {
   "cell_type": "code",
   "execution_count": 68,
   "metadata": {},
   "outputs": [
    {
     "name": "stdout",
     "output_type": "stream",
     "text": [
      "Divided by zero\n"
     ]
    }
   ],
   "source": [
    "try:\n",
    "    1 /0\n",
    "except ZeroDivisionError:\n",
    "    print(\"Divided by zero\")"
   ]
  },
  {
   "cell_type": "code",
   "execution_count": 69,
   "metadata": {},
   "outputs": [
    {
     "name": "stdout",
     "output_type": "stream",
     "text": [
      "Enter number: 1\n",
      "Invalid input\n"
     ]
    }
   ],
   "source": [
    "try:\n",
    "    x = input(\"Enter number: \")\n",
    "    x = x + 1\n",
    "    print(x)\n",
    "except:\n",
    "    print(\"Invalid input\")"
   ]
  },
  {
   "cell_type": "code",
   "execution_count": 70,
   "metadata": {},
   "outputs": [
    {
     "name": "stdout",
     "output_type": "stream",
     "text": [
      "Exception occured\n",
      "Program continues\n"
     ]
    }
   ],
   "source": [
    "def fail():\n",
    "    1 / 0\n",
    "\n",
    "try:\n",
    "    fail()\n",
    "except:\n",
    "    print('Exception occured')\n",
    "\n",
    "print('Program continues')"
   ]
  },
  {
   "cell_type": "code",
   "execution_count": 71,
   "metadata": {},
   "outputs": [
    {
     "name": "stdout",
     "output_type": "stream",
     "text": [
      "No exception occured\n",
      "We always do this\n"
     ]
    }
   ],
   "source": [
    "try:\n",
    "    x = 1\n",
    "except:\n",
    "    print('Failed to set x')\n",
    "else:\n",
    "    print('No exception occured')\n",
    "finally:\n",
    "    print('We always do this')"
   ]
  },
  {
   "cell_type": "code",
   "execution_count": 72,
   "metadata": {},
   "outputs": [
    {
     "ename": "MemoryError",
     "evalue": "Out of memory",
     "output_type": "error",
     "traceback": [
      "\u001b[0;31m---------------------------------------------------------------------------\u001b[0m",
      "\u001b[0;31mMemoryError\u001b[0m                               Traceback (most recent call last)",
      "\u001b[0;32m<ipython-input-72-fde8b46484b3>\u001b[0m in \u001b[0;36m<module>\u001b[0;34m\u001b[0m\n\u001b[0;32m----> 1\u001b[0;31m \u001b[0;32mraise\u001b[0m \u001b[0mMemoryError\u001b[0m\u001b[0;34m(\u001b[0m\u001b[0;34m\"Out of memory\"\u001b[0m\u001b[0;34m)\u001b[0m\u001b[0;34m\u001b[0m\u001b[0;34m\u001b[0m\u001b[0m\n\u001b[0m",
      "\u001b[0;31mMemoryError\u001b[0m: Out of memory"
     ]
    }
   ],
   "source": [
    "raise MemoryError(\"Out of memory\")"
   ]
  },
  {
   "cell_type": "code",
   "execution_count": 73,
   "metadata": {},
   "outputs": [
    {
     "ename": "LunchError",
     "evalue": "Programmer went to lunch",
     "output_type": "error",
     "traceback": [
      "\u001b[0;31m---------------------------------------------------------------------------\u001b[0m",
      "\u001b[0;31mLunchError\u001b[0m                                Traceback (most recent call last)",
      "\u001b[0;32m<ipython-input-73-ba89e4a1629b>\u001b[0m in \u001b[0;36m<module>\u001b[0;34m\u001b[0m\n\u001b[1;32m      2\u001b[0m     \u001b[0;32mpass\u001b[0m\u001b[0;34m\u001b[0m\u001b[0;34m\u001b[0m\u001b[0m\n\u001b[1;32m      3\u001b[0m \u001b[0;34m\u001b[0m\u001b[0m\n\u001b[0;32m----> 4\u001b[0;31m \u001b[0;32mraise\u001b[0m \u001b[0mLunchError\u001b[0m\u001b[0;34m(\u001b[0m\u001b[0;34m\"Programmer went to lunch\"\u001b[0m\u001b[0;34m)\u001b[0m\u001b[0;34m\u001b[0m\u001b[0;34m\u001b[0m\u001b[0m\n\u001b[0m",
      "\u001b[0;31mLunchError\u001b[0m: Programmer went to lunch"
     ]
    }
   ],
   "source": [
    "class LunchError(Exception):\n",
    "    pass\n",
    "\n",
    "raise LunchError(\"Programmer went to lunch\")"
   ]
  },
  {
   "cell_type": "markdown",
   "metadata": {},
   "source": [
    "## Class"
   ]
  },
  {
   "cell_type": "code",
   "execution_count": 5,
   "metadata": {},
   "outputs": [
    {
     "name": "stdout",
     "output_type": "stream",
     "text": [
      "bark\n",
      "None\n"
     ]
    }
   ],
   "source": [
    "class Dog:\n",
    "    name = \"\"\n",
    "    age = 0\n",
    "    \n",
    "    def bark(self):\n",
    "        print('bark')\n",
    "    \n",
    "a = Dog()\n",
    "print(a.bark())"
   ]
  },
  {
   "cell_type": "code",
   "execution_count": 7,
   "metadata": {},
   "outputs": [
    {
     "name": "stdout",
     "output_type": "stream",
     "text": [
      "learn python\n"
     ]
    }
   ],
   "source": [
    "class Website:\n",
    "    def __init__(self,title):\n",
    "        self.title = title\n",
    "    def showTitle(self):\n",
    "        print(self.title)\n",
    "        \n",
    "obj = Website(\"learn python\")\n",
    "obj.showTitle()\n",
    "        "
   ]
  },
  {
   "cell_type": "code",
   "execution_count": 8,
   "metadata": {},
   "outputs": [
    {
     "name": "stdout",
     "output_type": "stream",
     "text": [
      "Accelerating\n",
      "Changing flaps\n",
      "Closing wheels\n"
     ]
    }
   ],
   "source": [
    "class Plane:\n",
    "    def __init__(self):\n",
    "        self.wings = 2\n",
    "\n",
    "        # fly\n",
    "        self.drive()\n",
    "        self.flaps()\n",
    "        self.wheels()\n",
    "\n",
    "    def drive(self):\n",
    "            print('Accelerating')\n",
    "\n",
    "    def flaps(self):\n",
    "            print('Changing flaps')\n",
    "\n",
    "    def wheels(self):\n",
    "            print('Closing wheels')\n",
    "\n",
    "ba = Plane()"
   ]
  },
  {
   "cell_type": "code",
   "execution_count": 11,
   "metadata": {},
   "outputs": [
    {
     "name": "stdout",
     "output_type": "stream",
     "text": [
      "None\n",
      "teacher\n"
     ]
    }
   ],
   "source": [
    "class Friend:\n",
    "    def __init__(self):\n",
    "        self.job = \"None\"\n",
    "    \n",
    "    def getJob(self):\n",
    "        return self.job\n",
    "    def setJob(self,newJob):\n",
    "        self.job = newJob\n",
    "\n",
    "Alice = Friend()\n",
    "job = Alice.getJob()\n",
    "print(job)\n",
    "Alice.setJob(\"teacher\")\n",
    "print(Alice.getJob())"
   ]
  },
  {
   "cell_type": "markdown",
   "metadata": {},
   "source": [
    "## Modules"
   ]
  },
  {
   "cell_type": "code",
   "execution_count": 13,
   "metadata": {},
   "outputs": [
    {
     "data": {
      "text/plain": [
       "32512"
      ]
     },
     "execution_count": 13,
     "metadata": {},
     "output_type": "execute_result"
    }
   ],
   "source": [
    "import os\n",
    "os.system(\"dir\")"
   ]
  },
  {
   "cell_type": "code",
   "execution_count": 14,
   "metadata": {},
   "outputs": [
    {
     "name": "stdout",
     "output_type": "stream",
     "text": [
      "sleep\n"
     ]
    }
   ],
   "source": [
    "from time import sleep\n",
    "sleep(2)\n",
    "print(\"sleep\")"
   ]
  },
  {
   "cell_type": "markdown",
   "metadata": {},
   "source": [
    "## Inheritance in Python"
   ]
  },
  {
   "cell_type": "code",
   "execution_count": 22,
   "metadata": {},
   "outputs": [
    {
     "name": "stdout",
     "output_type": "stream",
     "text": [
      "starting\n",
      "android version\n"
     ]
    }
   ],
   "source": [
    "class App:\n",
    "    def start(self):\n",
    "        print(\"starting\")\n",
    "\n",
    "class Android(App):\n",
    "    def getVersion(self):\n",
    "        print(\"android version\")\n",
    "\n",
    "app = Android()\n",
    "app.start()\n",
    "app.getVersion()"
   ]
  },
  {
   "cell_type": "markdown",
   "metadata": {},
   "source": [
    "## Python's Static Methods"
   ]
  },
  {
   "cell_type": "code",
   "execution_count": 40,
   "metadata": {},
   "outputs": [
    {
     "name": "stdout",
     "output_type": "stream",
     "text": [
      "playing\n",
      "stop\n"
     ]
    }
   ],
   "source": [
    "class Music:\n",
    "    @staticmethod\n",
    "    def play():\n",
    "        print(\"playing\")\n",
    "    \n",
    "    def stop(self):\n",
    "        print(\"stop\")\n",
    "Music.play()\n",
    "\n",
    "obj = Music()\n",
    "obj.stop()"
   ]
  },
  {
   "cell_type": "markdown",
   "metadata": {},
   "source": [
    "## Iterable in Python"
   ]
  },
  {
   "cell_type": "code",
   "execution_count": 46,
   "metadata": {},
   "outputs": [
    {
     "name": "stdout",
     "output_type": "stream",
     "text": [
      "dict_keys(['one', 'two', 'three', 'four', 'five'])\n",
      "one\n",
      "two\n",
      "three\n",
      "four\n",
      "five\n",
      "one\n",
      "two\n"
     ]
    }
   ],
   "source": [
    "d = { \"one\": 1, \"two\": 2, \"three\": 3, \"four\": 4, \"five\": 5 }\n",
    "iterable = d.keys()\n",
    "print(iterable)\n",
    "\n",
    "for item in iterable:\n",
    "    print(item)\n",
    "    \n",
    "iterator = iter(iterable)\n",
    "print(next(iterator))\n",
    "print(next(iterator))"
   ]
  },
  {
   "cell_type": "code",
   "execution_count": 51,
   "metadata": {},
   "outputs": [
    {
     "name": "stdout",
     "output_type": "stream",
     "text": [
      "one\n",
      "two\n",
      "one\n"
     ]
    }
   ],
   "source": [
    "items = [ \"one\",\"two\",\"three\",\"four\" ]\n",
    "iterator = iter(items)\n",
    "x = next(iterator) \n",
    "print(x)\n",
    "print(next(iterator))"
   ]
  },
  {
   "cell_type": "markdown",
   "metadata": {},
   "source": [
    "## classmethod"
   ]
  },
  {
   "cell_type": "code",
   "execution_count": 54,
   "metadata": {},
   "outputs": [
    {
     "name": "stdout",
     "output_type": "stream",
     "text": [
      "The name is: Fruitas\n",
      "The name is: Fruitas\n",
      "The name is: Fruitas\n",
      "The name is: Fruitas\n",
      "The name is: Fruitas\n",
      "The name is: Fruitas\n",
      "The name is: Apple\n",
      "The name is: Apple\n",
      "The name is: Apple\n"
     ]
    }
   ],
   "source": [
    "class Fruit:\n",
    "    name = 'Fruitas'\n",
    "\n",
    "    @classmethod\n",
    "    def printName(cls):\n",
    "        print('The name is:', cls.name)\n",
    "\n",
    "apple = Fruit()\n",
    "berry = Fruit()\n",
    "\n",
    "Fruit.printName()\n",
    "apple.printName()\n",
    "berry.printName()\n",
    "\n",
    "apple.name=\"Apple\"\n",
    "Fruit.printName()\n",
    "apple.printName()\n",
    "berry.printName()\n",
    "\n",
    "Fruit.name=\"Apple\"\n",
    "Fruit.printName()\n",
    "apple.printName()\n",
    "berry.printName()"
   ]
  },
  {
   "cell_type": "code",
   "execution_count": 55,
   "metadata": {},
   "outputs": [
    {
     "name": "stdout",
     "output_type": "stream",
     "text": [
      "The name is: Fruitas\n"
     ]
    }
   ],
   "source": [
    "class Fruit:\n",
    "    name = 'Fruitas'\n",
    "\n",
    "    def printName(cls):\n",
    "            print('The name is:', cls.name)\n",
    "\n",
    "Fruit.printAge = classmethod(Fruit.printName)\n",
    "Fruit.printAge()"
   ]
  },
  {
   "cell_type": "markdown",
   "metadata": {},
   "source": [
    "## Multiple Inheritance"
   ]
  },
  {
   "cell_type": "code",
   "execution_count": 57,
   "metadata": {},
   "outputs": [
    {
     "name": "stdout",
     "output_type": "stream",
     "text": [
      "muxue\n",
      "3\n",
      "4\n"
     ]
    }
   ],
   "source": [
    "class Human:\n",
    "    name = \"muxue\"\n",
    "class Coder:\n",
    "    skills = 3\n",
    "class Py(Human,Coder):\n",
    "    version = 4\n",
    "\n",
    "obj = Py()\n",
    "print(obj.name)\n",
    "print(obj.skills)\n",
    "print(obj.version)"
   ]
  },
  {
   "cell_type": "markdown",
   "metadata": {},
   "source": [
    "## Enumerate"
   ]
  },
  {
   "cell_type": "code",
   "execution_count": 61,
   "metadata": {},
   "outputs": [
    {
     "name": "stdout",
     "output_type": "stream",
     "text": [
      "[(0, 'Chrome'), (1, 'Firefox'), (2, 'Opera'), (3, 'Vivaldi')]\n"
     ]
    }
   ],
   "source": [
    "browsers = ['Chrome','Firefox','Opera','Vivaldi']\n",
    "x = list(enumerate(browsers))\n",
    "print(x)"
   ]
  },
  {
   "cell_type": "code",
   "execution_count": 63,
   "metadata": {},
   "outputs": [
    {
     "name": "stdout",
     "output_type": "stream",
     "text": [
      "(0, 'Chrome')\n",
      "(1, 'Firefox')\n"
     ]
    }
   ],
   "source": [
    "browsers = ['Chrome','Firefox','Opera','Vivaldi']\n",
    "eObj = enumerate(browsers)\n",
    "x = next(eObj)\n",
    "print(x)\n",
    "x = next(eObj)\n",
    "print(x)"
   ]
  },
  {
   "cell_type": "code",
   "execution_count": 64,
   "metadata": {},
   "outputs": [
    {
     "name": "stdout",
     "output_type": "stream",
     "text": [
      "0 Apple\n",
      "1 Berry\n",
      "2 Cherry\n"
     ]
    }
   ],
   "source": [
    "fruits = [ \"Apple\",\"Berry\",\"Cherry\" ]\n",
    "for i,j in enumerate(fruits):\n",
    "    print(i,j)"
   ]
  },
  {
   "cell_type": "code",
   "execution_count": 66,
   "metadata": {},
   "outputs": [
    {
     "name": "stdout",
     "output_type": "stream",
     "text": [
      "0 (15, 'Fifteen')\n",
      "1 (12, 'Twelve')\n",
      "2 (19, 'Nineteen')\n"
     ]
    }
   ],
   "source": [
    "fruits = [(15,\"Fifteen\"), (12,\"Twelve\"), (19,\"Nineteen\")]\n",
    "for i,j in enumerate(fruits):\n",
    "    print(i,j)"
   ]
  },
  {
   "cell_type": "code",
   "execution_count": 68,
   "metadata": {},
   "outputs": [
    {
     "name": "stdout",
     "output_type": "stream",
     "text": [
      "index0,price 15 and name Fifteen\n",
      "index1,price 12 and name Twelve\n",
      "index2,price 19 and name Nineteen\n"
     ]
    }
   ],
   "source": [
    "for i,(price,name) in enumerate(fruits):\n",
    "    print(f\"index{i},price {price} and name {name}\")"
   ]
  },
  {
   "cell_type": "code",
   "execution_count": 69,
   "metadata": {},
   "outputs": [
    {
     "name": "stdout",
     "output_type": "stream",
     "text": [
      "0 a\n",
      "1 p\n",
      "2 p\n",
      "3 l\n",
      "4 e\n"
     ]
    }
   ],
   "source": [
    "fruit = \"apple\"\n",
    "for i,j in enumerate(fruit):\n",
    "    print(i,j)"
   ]
  },
  {
   "cell_type": "code",
   "execution_count": 70,
   "metadata": {},
   "outputs": [
    {
     "name": "stdout",
     "output_type": "stream",
     "text": [
      "2 a\n",
      "3 p\n",
      "4 p\n",
      "5 l\n",
      "6 e\n"
     ]
    }
   ],
   "source": [
    "fruit = \"apple\"\n",
    "for i,j in enumerate(fruit,start=2):\n",
    "    print(i,j)"
   ]
  },
  {
   "cell_type": "code",
   "execution_count": 72,
   "metadata": {},
   "outputs": [
    {
     "name": "stdout",
     "output_type": "stream",
     "text": [
      "a 1\n",
      "b 2\n",
      "c 3\n"
     ]
    }
   ],
   "source": [
    "d = {'a':1, 'b':2, 'c':3}\n",
    "for k,v in d.items():\n",
    "    print(k,v)"
   ]
  },
  {
   "cell_type": "markdown",
   "metadata": {},
   "source": [
    "##  Use Python Pickle to Save Objects"
   ]
  },
  {
   "cell_type": "markdown",
   "metadata": {},
   "source": [
    "## Regular Expressions"
   ]
  },
  {
   "cell_type": "code",
   "execution_count": 74,
   "metadata": {},
   "outputs": [
    {
     "name": "stdout",
     "output_type": "stream",
     "text": [
      "['wood', 'woodchuck', 'woodchuck', 'wood']\n",
      "foud\n"
     ]
    }
   ],
   "source": [
    "import re\n",
    "\n",
    "string = \"How much wood would a woodchuck chuck if a woodchuck could chuck wood?\"\n",
    "\n",
    "matches = re.findall(r'woo\\w*', string)\n",
    "print(matches)\n",
    "\n",
    "if re.search(r'woo\\w*',string):\n",
    "    print(\"foud\")\n",
    "else:\n",
    "    print(\"not find\")"
   ]
  },
  {
   "cell_type": "markdown",
   "metadata": {},
   "source": [
    "## Working With JSON Data in Python"
   ]
  },
  {
   "cell_type": "code",
   "execution_count": 75,
   "metadata": {},
   "outputs": [
    {
     "name": "stdout",
     "output_type": "stream",
     "text": [
      "{'gold': 1271, 'silver': 1284, 'platinum': 1270}\n",
      "1271\n"
     ]
    }
   ],
   "source": [
    "import json \n",
    "obj = json.loads('{\"gold\": 1271,\"silver\": 1284,\"platinum\": 1270}')\n",
    "print(obj)\n",
    "print(obj[\"gold\"])\n"
   ]
  },
  {
   "cell_type": "code",
   "execution_count": 79,
   "metadata": {},
   "outputs": [
    {
     "name": "stdout",
     "output_type": "stream",
     "text": [
      "$ 8287.35\n",
      "$ 1357.90996052\n"
     ]
    }
   ],
   "source": [
    "import json\n",
    "import urllib.request\n",
    "\n",
    "# download raw json object\n",
    "url = \"https://api.gdax.com/products/BTC-EUR/ticker\"\n",
    "data = urllib.request.urlopen(url).read().decode()\n",
    "\n",
    "# parse json object\n",
    "obj = json.loads(data)\n",
    "\n",
    "# output some object attributes\n",
    "print('$ ' + obj['price'])\n",
    "print('$ ' + obj['volume'])"
   ]
  },
  {
   "cell_type": "markdown",
   "metadata": {},
   "source": [
    "## Decorators"
   ]
  },
  {
   "cell_type": "code",
   "execution_count": 81,
   "metadata": {},
   "outputs": [
    {
     "name": "stdout",
     "output_type": "stream",
     "text": [
      "hello\n",
      "muxue\n"
     ]
    }
   ],
   "source": [
    "def hello(func):\n",
    "    def inner():\n",
    "        print(\"hello\")\n",
    "        func()\n",
    "    return inner\n",
    "\n",
    "def name():\n",
    "    print(\"muxue\")\n",
    "\n",
    "obj = hello(name)\n",
    "obj()"
   ]
  },
  {
   "cell_type": "code",
   "execution_count": 82,
   "metadata": {},
   "outputs": [
    {
     "name": "stdout",
     "output_type": "stream",
     "text": [
      "hello\n",
      "muxue\n"
     ]
    }
   ],
   "source": [
    "def hello(func):\n",
    "    def inner():\n",
    "        print(\"hello\")\n",
    "        func()\n",
    "    return inner\n",
    "@hello\n",
    "def name():\n",
    "    print(\"muxue\")\n",
    "name()"
   ]
  },
  {
   "cell_type": "code",
   "execution_count": 85,
   "metadata": {},
   "outputs": [
    {
     "name": "stdout",
     "output_type": "stream",
     "text": [
      "Function took 2.004714012145996 seconds to run\n"
     ]
    }
   ],
   "source": [
    "import time                                                                                                               \n",
    "                                                                                                                          \n",
    "def measure_time(func):                                                                                                   \n",
    "                                                                                                                          \n",
    "  def wrapper(*arg):                                                                                                      \n",
    "      t = time.time()                                                                                                     \n",
    "      res = func(*arg)                                                                                                    \n",
    "      print(\"Function took \" + str(time.time()-t) + \" seconds to run\")                                                    \n",
    "      return res                                                                                                          \n",
    "                                                                                                                          \n",
    "  return wrapper                                                                                                          \n",
    "                                                                                                                          \n",
    "@measure_time                                                                                                             \n",
    "def myFunction(n):\n",
    "    time.sleep(n)\n",
    "myFunction(2)"
   ]
  },
  {
   "cell_type": "code",
   "execution_count": 86,
   "metadata": {},
   "outputs": [
    {
     "name": "stdout",
     "output_type": "stream",
     "text": [
      "__main__\n"
     ]
    }
   ],
   "source": []
  },
  {
   "cell_type": "code",
   "execution_count": null,
   "metadata": {},
   "outputs": [],
   "source": []
  }
 ],
 "metadata": {
  "celltoolbar": "Raw Cell Format",
  "kernelspec": {
   "display_name": "Python 3",
   "language": "python",
   "name": "python3"
  },
  "language_info": {
   "codemirror_mode": {
    "name": "ipython",
    "version": 3
   },
   "file_extension": ".py",
   "mimetype": "text/x-python",
   "name": "python",
   "nbconvert_exporter": "python",
   "pygments_lexer": "ipython3",
   "version": "3.7.6"
  }
 },
 "nbformat": 4,
 "nbformat_minor": 4
}
